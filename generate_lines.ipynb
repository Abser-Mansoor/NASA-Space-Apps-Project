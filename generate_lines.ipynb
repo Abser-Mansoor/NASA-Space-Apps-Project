{
 "cells": [
  {
   "cell_type": "code",
   "execution_count": 118,
   "id": "6876dec0",
   "metadata": {},
   "outputs": [],
   "source": [
    "from sklearn.preprocessing import PolynomialFeatures\n",
    "from sklearn.linear_model import LinearRegression\n",
    "from sklearn.pipeline import Pipeline\n",
    "import matplotlib.pyplot as plt\n",
    "import seaborn as sns\n",
    "import pandas as pd\n",
    "import numpy as np\n",
    "import pickle\n",
    "import os"
   ]
  },
  {
   "cell_type": "code",
   "execution_count": 119,
   "id": "7d7cf45e",
   "metadata": {},
   "outputs": [],
   "source": [
    "years = [2020, 2021, 2022, 2023, 2024]\n",
    "regions = [\n",
    "  (\"karachi\", \"pakistan\", 24.8607, 67.0011),\n",
    "  (\"lahore\", \"pakistan\", 31.5204, 74.3587),\n",
    "  (\"islamabad\", \"pakistan\", 33.6844, 73.0479),\n",
    "  (\"rawalpindi\", \"pakistan\", 33.5651, 73.0169),\n",
    "  (\"peshawar\", \"pakistan\", 34.0151, 71.5249),\n",
    "  (\"quetta\", \"pakistan\", 30.1798, 66.9750),\n",
    "  (\"multan\", \"pakistan\", 30.1575, 71.5249),\n",
    "  (\"hyderabad\", \"pakistan\", 25.3960, 68.3578),\n",
    "  (\"mumbai\", \"india\", 19.0760, 72.8777),\n",
    "  (\"delhi\", \"india\", 28.7041, 77.1025),\n",
    "  (\"kolkata\", \"india\", 22.5726, 88.3639),\n",
    "  (\"chennai\", \"india\", 13.0827, 80.2707),\n",
    "  (\"bengaluru\", \"india\", 12.9716, 77.5946),\n",
    "  (\"hyderabad\", \"india\", 17.3850, 78.4867),\n",
    "  (\"ahmedabad\", \"india\", 23.0225, 72.5714),\n",
    "  (\"pune\", \"india\", 18.5204, 73.8567),\n",
    "  (\"surat\", \"india\", 21.1702, 72.8311),\n",
    "  (\"jaipur\", \"india\", 26.9124, 75.7873),\n",
    "  (\"lucknow\", \"india\", 26.8467, 80.9462),\n",
    "  (\"patna\", \"india\", 25.5941, 85.1376),\n",
    "  (\"dhaka\", \"bangladesh\", 23.8103, 90.4125),\n",
    "  (\"chittagong\", \"bangladesh\", 22.3569, 91.7832),\n",
    "  (\"colombo\", \"sri lanka\", 6.9271, 79.8612),\n",
    "  (\"kandy\", \"sri lanka\", 7.2906, 80.6337),\n",
    "  (\"kathmandu\", \"nepal\", 27.7172, 85.3240)\n",
    "]"
   ]
  },
  {
   "cell_type": "code",
   "execution_count": 120,
   "id": "6eb39429",
   "metadata": {},
   "outputs": [
    {
     "name": "stdout",
     "output_type": "stream",
     "text": [
      "['PRECTOTCORR', 'PS', 'QV2M', 'T2M', 'U10M', 'V10M']\n"
     ]
    }
   ],
   "source": [
    "df = pd.read_csv('master.csv')\n",
    "df.dropna(inplace=True)\n",
    "df['year'] = df['date'].map(lambda v: v[:4])\n",
    "\n",
    "targets = list(df[['PRECTOTCORR', 'PS', 'QV2M', 'T2M', 'U10M', 'V10M']].columns)\n",
    "print(targets)"
   ]
  },
  {
   "cell_type": "code",
   "execution_count": 121,
   "id": "de7240d8",
   "metadata": {},
   "outputs": [],
   "source": [
    "def get_data(lat, lon, year, target):\n",
    "  subset = df[(df['latitude'] == lat) &\n",
    "              (df['longitude'] == lon) &\n",
    "              (df['year'] == year)]\n",
    "  \n",
    "  X = np.arange(len(subset)).reshape(-1, 1)\n",
    "  \n",
    "  y = subset[target].values\n",
    "  \n",
    "  return X, y\n",
    "\n",
    "results = {}\n",
    "\n",
    "for (city, country, lat, lon) in regions:\n",
    "  for year in years:\n",
    "    for target in targets:\n",
    "      X, y = get_data(lat, lon, str(year), target)\n",
    "      \n",
    "      if X is None or len(y) <= 1:\n",
    "        coeffs, intercept = [0, 0], 0\n",
    "      else:\n",
    "        poly = PolynomialFeatures(degree=2)\n",
    "        X_poly = poly.fit_transform(X)\n",
    "        model = LinearRegression()\n",
    "        model.fit(X_poly, y)\n",
    "\n",
    "        coeffs = model.coef_.tolist()\n",
    "        intercept = float(model.intercept_)\n",
    "\n",
    "        # # ---- plotting ----\n",
    "        # X_range = np.linspace(X.min(), X.max(), 300).reshape(-1, 1)\n",
    "        # X_range_poly = poly.transform(X_range)\n",
    "        # y_pred = model.predict(X_range_poly)\n",
    "\n",
    "        # plt.figure(figsize=(8, 5))\n",
    "        # plt.scatter(X, y, color=\"blue\", s=10, label=\"data\")\n",
    "        # plt.plot(X_range, y_pred, color=\"red\", linewidth=2, label=\"quadratic fit\")\n",
    "        # plt.title(f\"{city} ({country}) - {year} - {target}\")\n",
    "        # plt.xlabel(\"Time Index\")\n",
    "        # plt.ylabel(target)\n",
    "        # plt.legend()\n",
    "\n",
    "        # # save plot\n",
    "        # filename = f\"regression_plots/{city}_{year}_{target}.png\".replace(\" \", \"_\")\n",
    "        # plt.savefig(filename)\n",
    "        # plt.close()\n",
    "\n",
    "        results[(city, country, year, target)] = {\n",
    "          \"coefficients\": coeffs,\n",
    "          \"intercept\": intercept\n",
    "        }\n",
    "\n",
    "# save to file\n",
    "file_path = \"regression_results.pickle\"\n",
    "with open(file_path, \"wb\") as file:\n",
    "  pickle.dump(results, file)"
   ]
  },
  {
   "cell_type": "code",
   "execution_count": null,
   "id": "d51f4884",
   "metadata": {},
   "outputs": [],
   "source": []
  }
 ],
 "metadata": {
  "kernelspec": {
   "display_name": "venv",
   "language": "python",
   "name": "python3"
  },
  "language_info": {
   "codemirror_mode": {
    "name": "ipython",
    "version": 3
   },
   "file_extension": ".py",
   "mimetype": "text/x-python",
   "name": "python",
   "nbconvert_exporter": "python",
   "pygments_lexer": "ipython3",
   "version": "3.12.3"
  }
 },
 "nbformat": 4,
 "nbformat_minor": 5
}
