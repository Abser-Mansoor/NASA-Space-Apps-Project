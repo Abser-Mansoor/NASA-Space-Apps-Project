{
 "cells": [
  {
   "cell_type": "code",
   "execution_count": 1,
   "id": "b0d7dec8",
   "metadata": {},
   "outputs": [
    {
     "name": "stdout",
     "output_type": "stream",
     "text": [
      "bengaluru.csv\n",
      "hyderabad_deccan.csv\n",
      "ahmedabad.csv\n",
      "pune.csv\n",
      "surat.csv\n",
      "jaipur.csv\n",
      "lucknow.csv\n",
      "patna.csv\n",
      "dhaka.csv\n",
      "chittagong.csv\n",
      "colombo.csv\n",
      "kandy.csv\n",
      "kathmandu.csv\n"
     ]
    }
   ],
   "source": [
    "import requests\n",
    "from requests.auth import HTTPBasicAuth\n",
    "import time\n",
    "\n",
    "username = \"khan_fasih\"\n",
    "password = \"89C002MTO8NyYgQpRrXh\"\n",
    "\n",
    "years = [2020, 2021, 2022, 2023, 2024]\n",
    "regions = [\n",
    "  # (\"karachi\", \"pakistan\", 24.8607, 67.0011),\n",
    "  # (\"lahore\", \"pakistan\", 31.5204, 74.3587),\n",
    "  # (\"islamabad\", \"pakistan\", 33.6844, 73.0479),\n",
    "  # (\"rawalpindi\", \"pakistan\", 33.5651, 73.0169),\n",
    "  # (\"peshawar\", \"pakistan\", 34.0151, 71.5249),\n",
    "  # (\"quetta\", \"pakistan\", 30.1798, 66.9750),\n",
    "  # (\"multan\", \"pakistan\", 30.1575, 71.5249),\n",
    "  # (\"hyderabad\", \"pakistan\", 25.3960, 68.3578),\n",
    "  # (\"mumbai\", \"india\", 19.0760, 72.8777),\n",
    "  # (\"delhi\", \"india\", 28.7041, 77.1025),\n",
    "  # (\"kolkata\", \"india\", 22.5726, 88.3639),\n",
    "  # (\"chennai\", \"india\", 13.0827, 80.2707),\n",
    "  (\"bengaluru\", \"india\", 12.9716, 77.5946),\n",
    "  (\"hyderabad_deccan\", \"india\", 17.3850, 78.4867),\n",
    "  (\"ahmedabad\", \"india\", 23.0225, 72.5714),\n",
    "  (\"pune\", \"india\", 18.5204, 73.8567),\n",
    "  (\"surat\", \"india\", 21.1702, 72.8311),\n",
    "  (\"jaipur\", \"india\", 26.9124, 75.7873),\n",
    "  (\"lucknow\", \"india\", 26.8467, 80.9462),\n",
    "  (\"patna\", \"india\", 25.5941, 85.1376),\n",
    "  (\"dhaka\", \"bangladesh\", 23.8103, 90.4125),\n",
    "  (\"chittagong\", \"bangladesh\", 22.3569, 91.7832),\n",
    "  (\"colombo\", \"sri lanka\", 6.9271, 79.8612),\n",
    "  (\"kandy\", \"sri lanka\", 7.2906, 80.6337),\n",
    "  (\"kathmandu\", \"nepal\", 27.7172, 85.3240)\n",
    "]\n",
    "\n",
    "for city, region, lat, lon in regions:\n",
    "  url = f\"https://api.meteomatics.com/{years[0]}-01-01T00:00:00Z--{years[-1]}-12-31T00:00:00Z:PT24H/heavy_rain_warning_24h:idx,snow_warning_24h:idx/{lat},{lon}/csv?source=mix\"\n",
    "  response = requests.get(url, auth=HTTPBasicAuth(username, password))\n",
    "  if response.status_code == 200:\n",
    "    with open(f\"{city}.csv\", \"wb\") as f:\n",
    "      f.write(response.content)\n",
    "    print(f\"{city}.csv\")\n",
    "  else:\n",
    "    print(f\"Error: {response.status_code} - {response.text}\")\n",
    "\n",
    "  time.sleep(2)\n"
   ]
  }
 ],
 "metadata": {
  "kernelspec": {
   "display_name": "venv",
   "language": "python",
   "name": "python3"
  },
  "language_info": {
   "codemirror_mode": {
    "name": "ipython",
    "version": 3
   },
   "file_extension": ".py",
   "mimetype": "text/x-python",
   "name": "python",
   "nbconvert_exporter": "python",
   "pygments_lexer": "ipython3",
   "version": "3.12.3"
  }
 },
 "nbformat": 4,
 "nbformat_minor": 5
}
